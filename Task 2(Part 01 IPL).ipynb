{
 "cells": [
  {
   "cell_type": "markdown",
   "metadata": {},
   "source": [
    "# Dataset 01 - IPL DATA"
   ]
  },
  {
   "cell_type": "code",
   "execution_count": 1,
   "metadata": {},
   "outputs": [],
   "source": [
    "import pandas as pd"
   ]
  },
  {
   "cell_type": "code",
   "execution_count": 44,
   "metadata": {},
   "outputs": [],
   "source": [
    "matches_df = pd.read_csv(\"C:\\\\Users\\\\Aashita Arora\\\\Documents\\\\work\\\\matches.csv\")"
   ]
  },
  {
   "cell_type": "code",
   "execution_count": 3,
   "metadata": {},
   "outputs": [],
   "source": [
    "deliveries_df=pd.read_csv(\"C:\\\\Users\\\\Aashita Arora\\\\Documents\\\\work\\\\deliveries.csv\")"
   ]
  },
  {
   "cell_type": "code",
   "execution_count": 78,
   "metadata": {},
   "outputs": [
    {
     "data": {
      "text/html": [
       "<div>\n",
       "<style scoped>\n",
       "    .dataframe tbody tr th:only-of-type {\n",
       "        vertical-align: middle;\n",
       "    }\n",
       "\n",
       "    .dataframe tbody tr th {\n",
       "        vertical-align: top;\n",
       "    }\n",
       "\n",
       "    .dataframe thead th {\n",
       "        text-align: right;\n",
       "    }\n",
       "</style>\n",
       "<table border=\"1\" class=\"dataframe\">\n",
       "  <thead>\n",
       "    <tr style=\"text-align: right;\">\n",
       "      <th></th>\n",
       "      <th>match_id</th>\n",
       "      <th>inning</th>\n",
       "      <th>batting_team</th>\n",
       "      <th>bowling_team</th>\n",
       "      <th>over</th>\n",
       "      <th>ball</th>\n",
       "      <th>batsman</th>\n",
       "      <th>non_striker</th>\n",
       "      <th>bowler</th>\n",
       "      <th>is_super_over</th>\n",
       "      <th>...</th>\n",
       "      <th>bye_runs</th>\n",
       "      <th>legbye_runs</th>\n",
       "      <th>noball_runs</th>\n",
       "      <th>penalty_runs</th>\n",
       "      <th>batsman_runs</th>\n",
       "      <th>extra_runs</th>\n",
       "      <th>total_runs</th>\n",
       "      <th>player_dismissed</th>\n",
       "      <th>dismissal_kind</th>\n",
       "      <th>fielder</th>\n",
       "    </tr>\n",
       "  </thead>\n",
       "  <tbody>\n",
       "    <tr>\n",
       "      <th>0</th>\n",
       "      <td>1</td>\n",
       "      <td>1</td>\n",
       "      <td>Sunrisers Hyderabad</td>\n",
       "      <td>Royal Challengers Bangalore</td>\n",
       "      <td>1</td>\n",
       "      <td>1</td>\n",
       "      <td>DA Warner</td>\n",
       "      <td>S Dhawan</td>\n",
       "      <td>TS Mills</td>\n",
       "      <td>0</td>\n",
       "      <td>...</td>\n",
       "      <td>0</td>\n",
       "      <td>0</td>\n",
       "      <td>0</td>\n",
       "      <td>0</td>\n",
       "      <td>0</td>\n",
       "      <td>0</td>\n",
       "      <td>0</td>\n",
       "      <td>NaN</td>\n",
       "      <td>NaN</td>\n",
       "      <td>NaN</td>\n",
       "    </tr>\n",
       "    <tr>\n",
       "      <th>1</th>\n",
       "      <td>1</td>\n",
       "      <td>1</td>\n",
       "      <td>Sunrisers Hyderabad</td>\n",
       "      <td>Royal Challengers Bangalore</td>\n",
       "      <td>1</td>\n",
       "      <td>2</td>\n",
       "      <td>DA Warner</td>\n",
       "      <td>S Dhawan</td>\n",
       "      <td>TS Mills</td>\n",
       "      <td>0</td>\n",
       "      <td>...</td>\n",
       "      <td>0</td>\n",
       "      <td>0</td>\n",
       "      <td>0</td>\n",
       "      <td>0</td>\n",
       "      <td>0</td>\n",
       "      <td>0</td>\n",
       "      <td>0</td>\n",
       "      <td>NaN</td>\n",
       "      <td>NaN</td>\n",
       "      <td>NaN</td>\n",
       "    </tr>\n",
       "    <tr>\n",
       "      <th>2</th>\n",
       "      <td>1</td>\n",
       "      <td>1</td>\n",
       "      <td>Sunrisers Hyderabad</td>\n",
       "      <td>Royal Challengers Bangalore</td>\n",
       "      <td>1</td>\n",
       "      <td>3</td>\n",
       "      <td>DA Warner</td>\n",
       "      <td>S Dhawan</td>\n",
       "      <td>TS Mills</td>\n",
       "      <td>0</td>\n",
       "      <td>...</td>\n",
       "      <td>0</td>\n",
       "      <td>0</td>\n",
       "      <td>0</td>\n",
       "      <td>0</td>\n",
       "      <td>4</td>\n",
       "      <td>0</td>\n",
       "      <td>4</td>\n",
       "      <td>NaN</td>\n",
       "      <td>NaN</td>\n",
       "      <td>NaN</td>\n",
       "    </tr>\n",
       "    <tr>\n",
       "      <th>3</th>\n",
       "      <td>1</td>\n",
       "      <td>1</td>\n",
       "      <td>Sunrisers Hyderabad</td>\n",
       "      <td>Royal Challengers Bangalore</td>\n",
       "      <td>1</td>\n",
       "      <td>4</td>\n",
       "      <td>DA Warner</td>\n",
       "      <td>S Dhawan</td>\n",
       "      <td>TS Mills</td>\n",
       "      <td>0</td>\n",
       "      <td>...</td>\n",
       "      <td>0</td>\n",
       "      <td>0</td>\n",
       "      <td>0</td>\n",
       "      <td>0</td>\n",
       "      <td>0</td>\n",
       "      <td>0</td>\n",
       "      <td>0</td>\n",
       "      <td>NaN</td>\n",
       "      <td>NaN</td>\n",
       "      <td>NaN</td>\n",
       "    </tr>\n",
       "    <tr>\n",
       "      <th>4</th>\n",
       "      <td>1</td>\n",
       "      <td>1</td>\n",
       "      <td>Sunrisers Hyderabad</td>\n",
       "      <td>Royal Challengers Bangalore</td>\n",
       "      <td>1</td>\n",
       "      <td>5</td>\n",
       "      <td>DA Warner</td>\n",
       "      <td>S Dhawan</td>\n",
       "      <td>TS Mills</td>\n",
       "      <td>0</td>\n",
       "      <td>...</td>\n",
       "      <td>0</td>\n",
       "      <td>0</td>\n",
       "      <td>0</td>\n",
       "      <td>0</td>\n",
       "      <td>0</td>\n",
       "      <td>2</td>\n",
       "      <td>2</td>\n",
       "      <td>NaN</td>\n",
       "      <td>NaN</td>\n",
       "      <td>NaN</td>\n",
       "    </tr>\n",
       "  </tbody>\n",
       "</table>\n",
       "<p>5 rows × 21 columns</p>\n",
       "</div>"
      ],
      "text/plain": [
       "   match_id  inning         batting_team                 bowling_team  over  \\\n",
       "0         1       1  Sunrisers Hyderabad  Royal Challengers Bangalore     1   \n",
       "1         1       1  Sunrisers Hyderabad  Royal Challengers Bangalore     1   \n",
       "2         1       1  Sunrisers Hyderabad  Royal Challengers Bangalore     1   \n",
       "3         1       1  Sunrisers Hyderabad  Royal Challengers Bangalore     1   \n",
       "4         1       1  Sunrisers Hyderabad  Royal Challengers Bangalore     1   \n",
       "\n",
       "   ball    batsman non_striker    bowler  is_super_over   ...    bye_runs  \\\n",
       "0     1  DA Warner    S Dhawan  TS Mills              0   ...           0   \n",
       "1     2  DA Warner    S Dhawan  TS Mills              0   ...           0   \n",
       "2     3  DA Warner    S Dhawan  TS Mills              0   ...           0   \n",
       "3     4  DA Warner    S Dhawan  TS Mills              0   ...           0   \n",
       "4     5  DA Warner    S Dhawan  TS Mills              0   ...           0   \n",
       "\n",
       "   legbye_runs  noball_runs  penalty_runs  batsman_runs  extra_runs  \\\n",
       "0            0            0             0             0           0   \n",
       "1            0            0             0             0           0   \n",
       "2            0            0             0             4           0   \n",
       "3            0            0             0             0           0   \n",
       "4            0            0             0             0           2   \n",
       "\n",
       "   total_runs  player_dismissed dismissal_kind fielder  \n",
       "0           0               NaN            NaN     NaN  \n",
       "1           0               NaN            NaN     NaN  \n",
       "2           4               NaN            NaN     NaN  \n",
       "3           0               NaN            NaN     NaN  \n",
       "4           2               NaN            NaN     NaN  \n",
       "\n",
       "[5 rows x 21 columns]"
      ]
     },
     "execution_count": 78,
     "metadata": {},
     "output_type": "execute_result"
    }
   ],
   "source": [
    "deliveries_df.head()"
   ]
  },
  {
   "cell_type": "code",
   "execution_count": 4,
   "metadata": {},
   "outputs": [
    {
     "data": {
      "text/html": [
       "<div>\n",
       "<style scoped>\n",
       "    .dataframe tbody tr th:only-of-type {\n",
       "        vertical-align: middle;\n",
       "    }\n",
       "\n",
       "    .dataframe tbody tr th {\n",
       "        vertical-align: top;\n",
       "    }\n",
       "\n",
       "    .dataframe thead th {\n",
       "        text-align: right;\n",
       "    }\n",
       "</style>\n",
       "<table border=\"1\" class=\"dataframe\">\n",
       "  <thead>\n",
       "    <tr style=\"text-align: right;\">\n",
       "      <th></th>\n",
       "      <th>id</th>\n",
       "      <th>season</th>\n",
       "      <th>city</th>\n",
       "      <th>date</th>\n",
       "      <th>team1</th>\n",
       "      <th>team2</th>\n",
       "      <th>toss_winner</th>\n",
       "      <th>toss_decision</th>\n",
       "      <th>result</th>\n",
       "      <th>dl_applied</th>\n",
       "      <th>winner</th>\n",
       "      <th>win_by_runs</th>\n",
       "      <th>win_by_wickets</th>\n",
       "      <th>player_of_match</th>\n",
       "      <th>venue</th>\n",
       "      <th>umpire1</th>\n",
       "      <th>umpire2</th>\n",
       "      <th>umpire3</th>\n",
       "    </tr>\n",
       "  </thead>\n",
       "  <tbody>\n",
       "    <tr>\n",
       "      <th>0</th>\n",
       "      <td>1</td>\n",
       "      <td>2017</td>\n",
       "      <td>Hyderabad</td>\n",
       "      <td>2017-04-05</td>\n",
       "      <td>Sunrisers Hyderabad</td>\n",
       "      <td>Royal Challengers Bangalore</td>\n",
       "      <td>Royal Challengers Bangalore</td>\n",
       "      <td>field</td>\n",
       "      <td>normal</td>\n",
       "      <td>0</td>\n",
       "      <td>Sunrisers Hyderabad</td>\n",
       "      <td>35</td>\n",
       "      <td>0</td>\n",
       "      <td>Yuvraj Singh</td>\n",
       "      <td>Rajiv Gandhi International Stadium, Uppal</td>\n",
       "      <td>AY Dandekar</td>\n",
       "      <td>NJ Llong</td>\n",
       "      <td>NaN</td>\n",
       "    </tr>\n",
       "    <tr>\n",
       "      <th>1</th>\n",
       "      <td>2</td>\n",
       "      <td>2017</td>\n",
       "      <td>Pune</td>\n",
       "      <td>2017-04-06</td>\n",
       "      <td>Mumbai Indians</td>\n",
       "      <td>Rising Pune Supergiant</td>\n",
       "      <td>Rising Pune Supergiant</td>\n",
       "      <td>field</td>\n",
       "      <td>normal</td>\n",
       "      <td>0</td>\n",
       "      <td>Rising Pune Supergiant</td>\n",
       "      <td>0</td>\n",
       "      <td>7</td>\n",
       "      <td>SPD Smith</td>\n",
       "      <td>Maharashtra Cricket Association Stadium</td>\n",
       "      <td>A Nand Kishore</td>\n",
       "      <td>S Ravi</td>\n",
       "      <td>NaN</td>\n",
       "    </tr>\n",
       "    <tr>\n",
       "      <th>2</th>\n",
       "      <td>3</td>\n",
       "      <td>2017</td>\n",
       "      <td>Rajkot</td>\n",
       "      <td>2017-04-07</td>\n",
       "      <td>Gujarat Lions</td>\n",
       "      <td>Kolkata Knight Riders</td>\n",
       "      <td>Kolkata Knight Riders</td>\n",
       "      <td>field</td>\n",
       "      <td>normal</td>\n",
       "      <td>0</td>\n",
       "      <td>Kolkata Knight Riders</td>\n",
       "      <td>0</td>\n",
       "      <td>10</td>\n",
       "      <td>CA Lynn</td>\n",
       "      <td>Saurashtra Cricket Association Stadium</td>\n",
       "      <td>Nitin Menon</td>\n",
       "      <td>CK Nandan</td>\n",
       "      <td>NaN</td>\n",
       "    </tr>\n",
       "    <tr>\n",
       "      <th>3</th>\n",
       "      <td>4</td>\n",
       "      <td>2017</td>\n",
       "      <td>Indore</td>\n",
       "      <td>2017-04-08</td>\n",
       "      <td>Rising Pune Supergiant</td>\n",
       "      <td>Kings XI Punjab</td>\n",
       "      <td>Kings XI Punjab</td>\n",
       "      <td>field</td>\n",
       "      <td>normal</td>\n",
       "      <td>0</td>\n",
       "      <td>Kings XI Punjab</td>\n",
       "      <td>0</td>\n",
       "      <td>6</td>\n",
       "      <td>GJ Maxwell</td>\n",
       "      <td>Holkar Cricket Stadium</td>\n",
       "      <td>AK Chaudhary</td>\n",
       "      <td>C Shamshuddin</td>\n",
       "      <td>NaN</td>\n",
       "    </tr>\n",
       "    <tr>\n",
       "      <th>4</th>\n",
       "      <td>5</td>\n",
       "      <td>2017</td>\n",
       "      <td>Bangalore</td>\n",
       "      <td>2017-04-08</td>\n",
       "      <td>Royal Challengers Bangalore</td>\n",
       "      <td>Delhi Daredevils</td>\n",
       "      <td>Royal Challengers Bangalore</td>\n",
       "      <td>bat</td>\n",
       "      <td>normal</td>\n",
       "      <td>0</td>\n",
       "      <td>Royal Challengers Bangalore</td>\n",
       "      <td>15</td>\n",
       "      <td>0</td>\n",
       "      <td>KM Jadhav</td>\n",
       "      <td>M Chinnaswamy Stadium</td>\n",
       "      <td>NaN</td>\n",
       "      <td>NaN</td>\n",
       "      <td>NaN</td>\n",
       "    </tr>\n",
       "  </tbody>\n",
       "</table>\n",
       "</div>"
      ],
      "text/plain": [
       "   id  season       city        date                        team1  \\\n",
       "0   1    2017  Hyderabad  2017-04-05          Sunrisers Hyderabad   \n",
       "1   2    2017       Pune  2017-04-06               Mumbai Indians   \n",
       "2   3    2017     Rajkot  2017-04-07                Gujarat Lions   \n",
       "3   4    2017     Indore  2017-04-08       Rising Pune Supergiant   \n",
       "4   5    2017  Bangalore  2017-04-08  Royal Challengers Bangalore   \n",
       "\n",
       "                         team2                  toss_winner toss_decision  \\\n",
       "0  Royal Challengers Bangalore  Royal Challengers Bangalore         field   \n",
       "1       Rising Pune Supergiant       Rising Pune Supergiant         field   \n",
       "2        Kolkata Knight Riders        Kolkata Knight Riders         field   \n",
       "3              Kings XI Punjab              Kings XI Punjab         field   \n",
       "4             Delhi Daredevils  Royal Challengers Bangalore           bat   \n",
       "\n",
       "   result  dl_applied                       winner  win_by_runs  \\\n",
       "0  normal           0          Sunrisers Hyderabad           35   \n",
       "1  normal           0       Rising Pune Supergiant            0   \n",
       "2  normal           0        Kolkata Knight Riders            0   \n",
       "3  normal           0              Kings XI Punjab            0   \n",
       "4  normal           0  Royal Challengers Bangalore           15   \n",
       "\n",
       "   win_by_wickets player_of_match                                      venue  \\\n",
       "0               0    Yuvraj Singh  Rajiv Gandhi International Stadium, Uppal   \n",
       "1               7       SPD Smith    Maharashtra Cricket Association Stadium   \n",
       "2              10         CA Lynn     Saurashtra Cricket Association Stadium   \n",
       "3               6      GJ Maxwell                     Holkar Cricket Stadium   \n",
       "4               0       KM Jadhav                      M Chinnaswamy Stadium   \n",
       "\n",
       "          umpire1        umpire2 umpire3  \n",
       "0     AY Dandekar       NJ Llong     NaN  \n",
       "1  A Nand Kishore         S Ravi     NaN  \n",
       "2     Nitin Menon      CK Nandan     NaN  \n",
       "3    AK Chaudhary  C Shamshuddin     NaN  \n",
       "4             NaN            NaN     NaN  "
      ]
     },
     "execution_count": 4,
     "metadata": {},
     "output_type": "execute_result"
    }
   ],
   "source": [
    "matches_df.head()"
   ]
  },
  {
   "cell_type": "code",
   "execution_count": 6,
   "metadata": {},
   "outputs": [],
   "source": [
    "df=matches_df[matches_df['team2']==matches_df['winner']]"
   ]
  },
  {
   "cell_type": "code",
   "execution_count": 10,
   "metadata": {},
   "outputs": [
    {
     "data": {
      "text/plain": [
       "Kolkata Knight Riders          58\n",
       "Mumbai Indians                 51\n",
       "Royal Challengers Bangalore    49\n",
       "Chennai Super Kings            49\n",
       "Rajasthan Royals               46\n",
       "Kings XI Punjab                44\n",
       "Delhi Daredevils               42\n",
       "Sunrisers Hyderabad            28\n",
       "Gujarat Lions                  12\n",
       "Deccan Chargers                11\n",
       "Delhi Capitals                  7\n",
       "Pune Warriors                   6\n",
       "Rising Pune Supergiant          5\n",
       "Rising Pune Supergiants         5\n",
       "Kochi Tuskers Kerala            4\n",
       "Name: winner, dtype: int64"
      ]
     },
     "execution_count": 10,
     "metadata": {},
     "output_type": "execute_result"
    }
   ],
   "source": [
    "df['winner'].value_counts() ###arranged in order of their number of wins"
   ]
  },
  {
   "cell_type": "markdown",
   "metadata": {},
   "source": [
    "## Which team has won/lost maximum number of matches while chasing?\n"
   ]
  },
  {
   "cell_type": "code",
   "execution_count": 15,
   "metadata": {},
   "outputs": [
    {
     "name": "stdout",
     "output_type": "stream",
     "text": [
      "Team which has won maximum number of matches  Kolkata Knight Riders\n"
     ]
    }
   ],
   "source": [
    "print(\"Team which has won maximum number of matches while chasing  \" + df['winner'].value_counts().idxmax())"
   ]
  },
  {
   "cell_type": "code",
   "execution_count": 16,
   "metadata": {},
   "outputs": [
    {
     "name": "stdout",
     "output_type": "stream",
     "text": [
      "Team which has lost maximum number of matches while chasing  Kochi Tuskers Kerala\n"
     ]
    }
   ],
   "source": [
    "print(\"Team which has lost maximum number of matches while chasing  \" + df['winner'].value_counts().idxmin())"
   ]
  },
  {
   "cell_type": "markdown",
   "metadata": {},
   "source": [
    "## Which toss decision is best for each ground?"
   ]
  },
  {
   "cell_type": "code",
   "execution_count": 69,
   "metadata": {},
   "outputs": [],
   "source": [
    "venue_wise=matches_df.groupby('venue')"
   ]
  },
  {
   "cell_type": "code",
   "execution_count": 73,
   "metadata": {},
   "outputs": [],
   "source": [
    "dict={}"
   ]
  },
  {
   "cell_type": "code",
   "execution_count": 74,
   "metadata": {},
   "outputs": [],
   "source": [
    "for name,group in venue_wise:\n",
    "    b=(group[group['team1']==group['winner']]).shape[0]\n",
    "    f=(group[group['team2']==group['winner']]).shape[0]\n",
    "    if(b>f):\n",
    "        dict[name]=\"bat\"\n",
    "    else:\n",
    "        dict[name]=\"field\"\n",
    "    "
   ]
  },
  {
   "cell_type": "markdown",
   "metadata": {},
   "source": [
    "## The toss decison best for each ground"
   ]
  },
  {
   "cell_type": "code",
   "execution_count": 77,
   "metadata": {},
   "outputs": [
    {
     "data": {
      "text/plain": [
       "{'ACA-VDCA Stadium': 'field',\n",
       " 'Barabati Stadium': 'bat',\n",
       " 'Brabourne Stadium': 'bat',\n",
       " 'Buffalo Park': 'bat',\n",
       " 'De Beers Diamond Oval': 'field',\n",
       " 'Dr DY Patil Sports Academy': 'field',\n",
       " 'Dr. Y.S. Rajasekhara Reddy ACA-VDCA Cricket Stadium': 'bat',\n",
       " 'Dubai International Cricket Stadium': 'field',\n",
       " 'Eden Gardens': 'field',\n",
       " 'Feroz Shah Kotla': 'field',\n",
       " 'Feroz Shah Kotla Ground': 'field',\n",
       " 'Green Park': 'field',\n",
       " 'Himachal Pradesh Cricket Association Stadium': 'bat',\n",
       " 'Holkar Cricket Stadium': 'field',\n",
       " 'IS Bindra Stadium': 'field',\n",
       " 'JSCA International Stadium Complex': 'field',\n",
       " 'Kingsmead': 'bat',\n",
       " 'M Chinnaswamy Stadium': 'field',\n",
       " 'M. A. Chidambaram Stadium': 'field',\n",
       " 'M. Chinnaswamy Stadium': 'field',\n",
       " 'MA Chidambaram Stadium, Chepauk': 'bat',\n",
       " 'Maharashtra Cricket Association Stadium': 'field',\n",
       " 'Nehru Stadium': 'bat',\n",
       " 'New Wanderers Stadium': 'field',\n",
       " 'Newlands': 'bat',\n",
       " 'OUTsurance Oval': 'field',\n",
       " 'Punjab Cricket Association IS Bindra Stadium, Mohali': 'field',\n",
       " 'Punjab Cricket Association Stadium, Mohali': 'field',\n",
       " 'Rajiv Gandhi International Stadium, Uppal': 'field',\n",
       " 'Rajiv Gandhi Intl. Cricket Stadium': 'bat',\n",
       " 'Sardar Patel Stadium, Motera': 'field',\n",
       " 'Saurashtra Cricket Association Stadium': 'field',\n",
       " 'Sawai Mansingh Stadium': 'field',\n",
       " 'Shaheed Veer Narayan Singh International Stadium': 'field',\n",
       " 'Sharjah Cricket Stadium': 'field',\n",
       " 'Sheikh Zayed Stadium': 'bat',\n",
       " \"St George's Park\": 'field',\n",
       " 'Subrata Roy Sahara Stadium': 'bat',\n",
       " 'SuperSport Park': 'field',\n",
       " 'Vidarbha Cricket Association Stadium, Jamtha': 'bat',\n",
       " 'Wankhede Stadium': 'field'}"
      ]
     },
     "execution_count": 77,
     "metadata": {},
     "output_type": "execute_result"
    }
   ],
   "source": [
    "dict"
   ]
  },
  {
   "cell_type": "markdown",
   "metadata": {},
   "source": [
    "## Which player has won maximum number of MoM awards while chasing?"
   ]
  },
  {
   "cell_type": "code",
   "execution_count": 99,
   "metadata": {},
   "outputs": [],
   "source": [
    "msub=matches_df[['id','team2','winner','player_of_match']]"
   ]
  },
  {
   "cell_type": "code",
   "execution_count": 100,
   "metadata": {},
   "outputs": [
    {
     "data": {
      "text/html": [
       "<div>\n",
       "<style scoped>\n",
       "    .dataframe tbody tr th:only-of-type {\n",
       "        vertical-align: middle;\n",
       "    }\n",
       "\n",
       "    .dataframe tbody tr th {\n",
       "        vertical-align: top;\n",
       "    }\n",
       "\n",
       "    .dataframe thead th {\n",
       "        text-align: right;\n",
       "    }\n",
       "</style>\n",
       "<table border=\"1\" class=\"dataframe\">\n",
       "  <thead>\n",
       "    <tr style=\"text-align: right;\">\n",
       "      <th></th>\n",
       "      <th>id</th>\n",
       "      <th>team2</th>\n",
       "      <th>winner</th>\n",
       "      <th>player_of_match</th>\n",
       "    </tr>\n",
       "  </thead>\n",
       "  <tbody>\n",
       "    <tr>\n",
       "      <th>0</th>\n",
       "      <td>1</td>\n",
       "      <td>Royal Challengers Bangalore</td>\n",
       "      <td>Sunrisers Hyderabad</td>\n",
       "      <td>Yuvraj Singh</td>\n",
       "    </tr>\n",
       "    <tr>\n",
       "      <th>1</th>\n",
       "      <td>2</td>\n",
       "      <td>Rising Pune Supergiant</td>\n",
       "      <td>Rising Pune Supergiant</td>\n",
       "      <td>SPD Smith</td>\n",
       "    </tr>\n",
       "    <tr>\n",
       "      <th>2</th>\n",
       "      <td>3</td>\n",
       "      <td>Kolkata Knight Riders</td>\n",
       "      <td>Kolkata Knight Riders</td>\n",
       "      <td>CA Lynn</td>\n",
       "    </tr>\n",
       "    <tr>\n",
       "      <th>3</th>\n",
       "      <td>4</td>\n",
       "      <td>Kings XI Punjab</td>\n",
       "      <td>Kings XI Punjab</td>\n",
       "      <td>GJ Maxwell</td>\n",
       "    </tr>\n",
       "    <tr>\n",
       "      <th>4</th>\n",
       "      <td>5</td>\n",
       "      <td>Delhi Daredevils</td>\n",
       "      <td>Royal Challengers Bangalore</td>\n",
       "      <td>KM Jadhav</td>\n",
       "    </tr>\n",
       "  </tbody>\n",
       "</table>\n",
       "</div>"
      ],
      "text/plain": [
       "   id                        team2                       winner  \\\n",
       "0   1  Royal Challengers Bangalore          Sunrisers Hyderabad   \n",
       "1   2       Rising Pune Supergiant       Rising Pune Supergiant   \n",
       "2   3        Kolkata Knight Riders        Kolkata Knight Riders   \n",
       "3   4              Kings XI Punjab              Kings XI Punjab   \n",
       "4   5             Delhi Daredevils  Royal Challengers Bangalore   \n",
       "\n",
       "  player_of_match  \n",
       "0    Yuvraj Singh  \n",
       "1       SPD Smith  \n",
       "2         CA Lynn  \n",
       "3      GJ Maxwell  \n",
       "4       KM Jadhav  "
      ]
     },
     "execution_count": 100,
     "metadata": {},
     "output_type": "execute_result"
    }
   ],
   "source": [
    "msub.head()"
   ]
  },
  {
   "cell_type": "code",
   "execution_count": 102,
   "metadata": {},
   "outputs": [],
   "source": [
    "dsub=deliveries_df[['match_id','batting_team','batsman']]"
   ]
  },
  {
   "cell_type": "code",
   "execution_count": 115,
   "metadata": {},
   "outputs": [],
   "source": [
    "dsub=dsub.drop_duplicates()"
   ]
  },
  {
   "cell_type": "code",
   "execution_count": 116,
   "metadata": {},
   "outputs": [],
   "source": [
    "merged=pd.merge(msub,dsub,left_on=\"id\",right_on=\"match_id\",how=\"inner\")"
   ]
  },
  {
   "cell_type": "code",
   "execution_count": 120,
   "metadata": {},
   "outputs": [],
   "source": [
    "a=merged[merged['player_of_match']==merged['batsman']]"
   ]
  },
  {
   "cell_type": "code",
   "execution_count": 121,
   "metadata": {},
   "outputs": [],
   "source": [
    "a=a[a['team2']==a['winner']]"
   ]
  },
  {
   "cell_type": "code",
   "execution_count": 126,
   "metadata": {},
   "outputs": [
    {
     "data": {
      "text/plain": [
       "'YK Pathan'"
      ]
     },
     "execution_count": 126,
     "metadata": {},
     "output_type": "execute_result"
    }
   ],
   "source": [
    "a['player_of_match'].value_counts().idxmax()"
   ]
  },
  {
   "cell_type": "markdown",
   "metadata": {},
   "source": [
    "## Player which has won maximum number of awards while chasing : "
   ]
  },
  {
   "cell_type": "code",
   "execution_count": 128,
   "metadata": {},
   "outputs": [
    {
     "data": {
      "text/plain": [
       "'YK Pathan'"
      ]
     },
     "execution_count": 128,
     "metadata": {},
     "output_type": "execute_result"
    }
   ],
   "source": [
    "a['player_of_match'].value_counts().idxmax()"
   ]
  },
  {
   "cell_type": "markdown",
   "metadata": {},
   "source": [
    "## Which batsman has played maximum number of dot balls?"
   ]
  },
  {
   "cell_type": "code",
   "execution_count": 132,
   "metadata": {},
   "outputs": [],
   "source": [
    "dot=deliveries_df.query(\"total_runs == 0\")"
   ]
  },
  {
   "cell_type": "code",
   "execution_count": 134,
   "metadata": {},
   "outputs": [
    {
     "data": {
      "text/plain": [
       "'V Kohli'"
      ]
     },
     "execution_count": 134,
     "metadata": {},
     "output_type": "execute_result"
    }
   ],
   "source": [
    "dot['batsman'].value_counts().idxmax()"
   ]
  },
  {
   "cell_type": "markdown",
   "metadata": {},
   "source": [
    "## Which batsmen came to crease but never got a chance to face a ball?"
   ]
  },
  {
   "cell_type": "code",
   "execution_count": 136,
   "metadata": {},
   "outputs": [],
   "source": [
    "dsub=deliveries_df.groupby('match_id')"
   ]
  },
  {
   "cell_type": "code",
   "execution_count": 146,
   "metadata": {},
   "outputs": [],
   "source": [
    "batsmen=dsub['batsman'].unique()"
   ]
  },
  {
   "cell_type": "code",
   "execution_count": 147,
   "metadata": {},
   "outputs": [],
   "source": [
    "non=dsub['non_striker'].unique()"
   ]
  },
  {
   "cell_type": "code",
   "execution_count": 173,
   "metadata": {},
   "outputs": [],
   "source": [
    "li=[]\n",
    "for i,j in zip(batsmen,non):\n",
    "    z=set(j)-set(i)\n",
    "    li.append(list(z))"
   ]
  },
  {
   "cell_type": "code",
   "execution_count": 176,
   "metadata": {},
   "outputs": [
    {
     "name": "stdout",
     "output_type": "stream",
     "text": [
      "(2, ['MJ McClenaghan'])\n",
      "(3, ['DR Smith'])\n",
      "(4, ['R Bhatia'])\n",
      "(10, ['A Nehra'])\n",
      "(11, ['Sandeep Sharma'])\n",
      "(21, ['CH Morris'])\n",
      "(28, ['MJ McClenaghan', 'MG Johnson'])\n",
      "(29, ['MK Pandey'])\n",
      "(31, ['PJ Cummins'])\n",
      "(37, ['S Aravind'])\n",
      "(43, ['JD Unadkat', 'A Nehra'])\n",
      "(45, ['S Aravind'])\n",
      "(51, ['S Nadeem'])\n",
      "(54, ['Sandeep Sharma'])\n",
      "(64, ['PP Ojha'])\n",
      "(71, ['AB Dinda'])\n",
      "(74, ['JDP Oram'])\n",
      "(75, ['I Sharma'])\n",
      "(79, ['Joginder Sharma'])\n",
      "(80, ['SB Bangar', 'DP Vijaykumar'])\n",
      "(82, ['A Nehra'])\n",
      "(90, ['A Kumble'])\n",
      "(91, ['S Sreesanth'])\n",
      "(95, ['GD McGrath'])\n",
      "(109, ['A Nel'])\n",
      "(111, ['Z Khan'])\n",
      "(115, ['MM Patel'])\n",
      "(118, ['PR Shah'])\n",
      "(119, ['DW Steyn'])\n",
      "(120, ['T Kohli', 'PP Chawla'])\n",
      "(125, ['DL Vettori', 'L Balaji'])\n",
      "(129, ['R Vinay Kumar'])\n",
      "(130, ['K Goel'])\n",
      "(131, ['MS Gony'])\n",
      "(135, ['Z Khan'])\n",
      "(138, ['AB Agarkar'])\n",
      "(139, ['RR Powar'])\n",
      "(140, ['Y Venugopal Rao'])\n",
      "(141, ['S Tyagi', 'A Nehra'])\n",
      "(148, ['A Kumble'])\n",
      "(150, ['SL Malinga'])\n",
      "(155, ['RP Singh'])\n",
      "(157, ['PP Chawla'])\n",
      "(158, ['PJ Sangwan'])\n",
      "(159, ['S Tyagi'])\n",
      "(160, ['SK Warne'])\n",
      "(163, ['AB Agarkar'])\n",
      "(164, ['Jaskaran Singh'])\n",
      "(170, ['SL Malinga', 'DS Kulkarni'])\n",
      "(176, ['Z Khan', 'SA Asnodkar'])\n",
      "(183, ['R Sathish'])\n",
      "(187, ['AD Mathews'])\n",
      "(188, ['SL Malinga'])\n",
      "(193, ['AA Jhunjhunwala'])\n",
      "(195, ['PP Ojha'])\n",
      "(196, ['WP Saha'])\n",
      "(198, ['SK Warne'])\n",
      "(199, ['PP Ojha'])\n",
      "(202, ['C Ganapathy'])\n",
      "(204, ['Y Venugopal Rao'])\n",
      "(206, ['S Anirudha'])\n",
      "(210, ['Harmeet Singh', 'PP Ojha'])\n",
      "(214, ['P Kumar'])\n",
      "(216, ['SB Jakati'])\n",
      "(227, ['Kamran Khan'])\n",
      "(232, ['SB Jakati'])\n",
      "(233, ['Harmeet Singh'])\n",
      "(247, ['KA Pollard'])\n",
      "(250, ['S Nadeem'])\n",
      "(258, ['MK Tiwary'])\n",
      "(266, ['AB Agarkar'])\n",
      "(268, ['A Mithun'])\n",
      "(271, ['M Kartik'])\n",
      "(273, ['TL Suman'])\n",
      "(275, ['MV Boucher'])\n",
      "(276, ['JA Morkel'])\n",
      "(283, ['RP Singh'])\n",
      "(285, ['SK Trivedi'])\n",
      "(286, ['I Sharma'])\n",
      "(287, ['SL Malinga'])\n",
      "(289, ['WP Saha'])\n",
      "(291, ['A Mithun'])\n",
      "(292, ['SL Malinga', 'DS Kulkarni'])\n",
      "(302, ['SB Jakati'])\n",
      "(305, ['RG Sharma'])\n",
      "(307, ['S Badrinath'])\n",
      "(310, ['R Sharma'])\n",
      "(313, ['TP Sudhindra'])\n",
      "(318, ['M Vijay'])\n",
      "(320, ['Z Khan'])\n",
      "(329, ['B Kumar'])\n",
      "(331, ['PA Patel'])\n",
      "(343, ['P Awana'])\n",
      "(345, ['AB Agarkar'])\n",
      "(347, ['LR Shukla'])\n",
      "(353, ['M Kartik'])\n",
      "(357, ['M Morkel'])\n",
      "(366, ['PA Reddy'])\n",
      "(370, ['MM Patel'])\n",
      "(376, ['DW Steyn'])\n",
      "(377, ['GB Hogg'])\n",
      "(382, ['UT Yadav'])\n",
      "(385, ['S Sreesanth'])\n",
      "(386, ['DP Nannes'])\n",
      "(388, ['A Mishra'])\n",
      "(400, ['L Balaji', 'P Awana'])\n",
      "(405, ['MS Gony'])\n",
      "(406, ['JH Kallis'])\n",
      "(412, ['PP Chawla'])\n",
      "(416, ['I Sharma'])\n",
      "(417, ['AT Rayudu'])\n",
      "(424, ['G Gambhir'])\n",
      "(431, ['M Rawat'])\n",
      "(434, ['Harbhajan Singh', 'AT Rayudu'])\n",
      "(435, ['I Sharma'])\n",
      "(445, ['LJ Wright'])\n",
      "(449, ['A Mishra'])\n",
      "(451, ['S Kaul'])\n",
      "(452, ['S Badrinath'])\n",
      "(454, ['MM Patel'])\n",
      "(461, ['DW Steyn'])\n",
      "(463, ['NM Coulter-Nile'])\n",
      "(465, ['BW Hilfenhaus'])\n",
      "(466, ['AR Patel'])\n",
      "(468, ['MA Starc'])\n",
      "(471, ['STR Binny', 'YS Chahal'])\n",
      "(473, ['Z Khan'])\n",
      "(478, ['R Vinay Kumar'])\n",
      "(480, ['WD Parnell'])\n",
      "(484, ['AP Tare'])\n",
      "(490, ['R Ashwin'])\n",
      "(494, ['KK Cooper'])\n",
      "(497, ['RN ten Doeschate'])\n",
      "(511, ['R Vinay Kumar', 'Parvez Rasool'])\n",
      "(513, ['KK Cooper'])\n",
      "(514, ['SP Narine', 'M Morkel'])\n",
      "(519, ['DJ Muthuswami'])\n",
      "(520, ['TG Southee'])\n",
      "(521, ['DJ Bravo'])\n",
      "(522, ['PP Chawla'])\n",
      "(524, ['R Vinay Kumar'])\n",
      "(528, ['R Dhawan', 'MK Tiwary'])\n",
      "(530, ['J Suchith'])\n",
      "(539, ['JJ Bumrah'])\n",
      "(549, ['Harbhajan Singh'])\n",
      "(554, ['Mandeep Singh', 'MM Sharma', 'YS Chahal'])\n",
      "(560, ['UT Yadav', 'GJ Bailey'])\n",
      "(564, ['BE Hendricks'])\n",
      "(566, ['HV Patel'])\n",
      "(568, ['SN Khan'])\n",
      "(575, ['RA Jadeja'])\n",
      "(579, ['MG Johnson'])\n",
      "(585, ['MJ McClenaghan'])\n",
      "(590, ['HV Patel'])\n",
      "(592, ['I Sharma'])\n",
      "(596, ['SP Narine'])\n",
      "(597, ['MM Sharma', 'KH Pandya'])\n",
      "(598, ['A Nehra'])\n",
      "(601, ['P Kumar'])\n",
      "(602, ['GB Hogg'])\n",
      "(604, ['S Kaushik'])\n",
      "(606, ['VR Aaron'])\n",
      "(614, ['DJ Bravo'])\n",
      "(615, ['STR Binny'])\n",
      "(616, ['R Bhatia'])\n",
      "(622, ['GJ Maxwell'])\n",
      "(634, ['BB Sran', 'M Morkel'])\n",
      "(639, ['Washington Sundar'])\n",
      "(642, ['C Munro', 'SS Iyer'])\n",
      "(648, ['BB Sran'])\n",
      "(649, ['S Mavi'])\n",
      "(651, ['JD Unadkat'])\n",
      "(655, ['CH Morris'])\n",
      "(657, ['JD Unadkat'])\n",
      "(660, ['Mohammed Siraj'])\n",
      "(662, ['V Shankar'])\n",
      "(663, ['RA Jadeja'])\n",
      "(664, ['Basil Thampi'])\n",
      "(666, ['RA Jadeja'])\n",
      "(667, ['MJ McClenaghan'])\n",
      "(668, ['J Archer'])\n",
      "(669, ['KV Sharma'])\n",
      "(670, ['R Ashwin'])\n",
      "(673, ['PP Chawla'])\n",
      "(677, ['JP Duminy'])\n",
      "(678, ['V Shankar'])\n",
      "(679, ['J Archer'])\n",
      "(683, ['JP Duminy', 'BA Stokes'])\n",
      "(690, ['S Gill', 'S Kaul'])\n",
      "(691, ['Mustafizur Rahman'])\n",
      "(694, ['PP Chawla'])\n",
      "(695, ['P Krishna'])\n",
      "(699, ['JJ Bumrah'])\n",
      "(705, ['M Markande'])\n",
      "(706, ['HV Patel'])\n",
      "(708, ['JD Unadkat'])\n",
      "(709, ['M Ur Rahman'])\n",
      "(712, ['I Sharma'])\n",
      "(715, ['A Joseph'])\n",
      "(723, ['KH Pandya'])\n",
      "(725, ['Kuldeep Yadav'])\n",
      "(727, ['Mohammed Siraj', 'KA Pollard'])\n",
      "(728, ['JD Unadkat'])\n",
      "(729, ['YK Pathan'])\n",
      "(730, ['I Sharma', 'K Paul', 'KA Pollard'])\n",
      "(731, ['KD Karthik'])\n",
      "(735, ['DW Steyn', 'SN Thakur'])\n",
      "(736, ['SV Samson'])\n",
      "(737, ['DJ Bravo'])\n",
      "(740, ['Imran Tahir'])\n",
      "(741, ['S Kaul'])\n",
      "(742, ['UT Yadav'])\n",
      "(745, ['UT Yadav'])\n",
      "(747, ['Rashid Khan'])\n",
      "(752, ['SP Narine'])\n",
      "(754, ['TA Boult', 'B Kumar'])\n",
      "(756, ['JJ Bumrah'])\n"
     ]
    }
   ],
   "source": [
    "for ele in enumerate(li,start=1):\n",
    "    if(len(ele[1])):\n",
    "            print(ele)\n",
    "# listing accprding to the match ids: the players who did not get a chance to play in that match.  "
   ]
  },
  {
   "cell_type": "markdown",
   "metadata": {},
   "source": [
    "## Which bowler has hit for maximum number of 1s/2s/3s/4s/6s?"
   ]
  },
  {
   "cell_type": "code",
   "execution_count": 219,
   "metadata": {},
   "outputs": [],
   "source": [
    "dsub=deliveries_df[['total_runs','bowler']]"
   ]
  },
  {
   "cell_type": "code",
   "execution_count": 220,
   "metadata": {},
   "outputs": [],
   "source": [
    "dsub=dsub.groupby('total_runs')"
   ]
  },
  {
   "cell_type": "code",
   "execution_count": 221,
   "metadata": {},
   "outputs": [],
   "source": [
    "li=[]\n",
    "for name,group in dsub:\n",
    "    b=group['bowler'].value_counts().idxmax()\n",
    "    if(name>=1 and name<=4):\n",
    "        li.append((name,b))\n",
    "    #for 6s we have to count the 6s on no ball also so we will have toadd when total_run =7\n",
    "    if(name==6 or name==7):\n",
    "        s1=group['bowler'].value_counts()\n",
    "    if(name==7):\n",
    "        s2=group['bowler'].value_counts()\n",
    "        s1.add(s2,fill_value=0)\n",
    "        li.append((6,s1.idxmax()))\n",
    "        \n",
    "    \n",
    "    "
   ]
  },
  {
   "cell_type": "code",
   "execution_count": 222,
   "metadata": {},
   "outputs": [
    {
     "data": {
      "text/plain": [
       "[(1, 'Harbhajan Singh'),\n",
       " (2, 'DJ Bravo'),\n",
       " (3, 'P Kumar'),\n",
       " (4, 'UT Yadav'),\n",
       " (6, 'MM Patel')]"
      ]
     },
     "execution_count": 222,
     "metadata": {},
     "output_type": "execute_result"
    }
   ],
   "source": [
    "li"
   ]
  },
  {
   "cell_type": "markdown",
   "metadata": {},
   "source": [
    "## Which batsman got stumped out maximum number of times?\n"
   ]
  },
  {
   "cell_type": "code",
   "execution_count": 223,
   "metadata": {},
   "outputs": [],
   "source": [
    "desub=deliveries_df[['player_dismissed','dismissal_kind']]"
   ]
  },
  {
   "cell_type": "code",
   "execution_count": 227,
   "metadata": {},
   "outputs": [
    {
     "data": {
      "text/plain": [
       "'SK Raina'"
      ]
     },
     "execution_count": 227,
     "metadata": {},
     "output_type": "execute_result"
    }
   ],
   "source": [
    "desub[desub['dismissal_kind']=='stumped']['player_dismissed'].value_counts().idxmax()"
   ]
  },
  {
   "cell_type": "markdown",
   "metadata": {},
   "source": [
    "## Which non-striker has been part of maximum number of runouts?"
   ]
  },
  {
   "cell_type": "code",
   "execution_count": 230,
   "metadata": {},
   "outputs": [],
   "source": [
    "desub1=deliveries_df[['non_striker','player_dismissed','dismissal_kind']]"
   ]
  },
  {
   "cell_type": "code",
   "execution_count": 233,
   "metadata": {},
   "outputs": [],
   "source": [
    "desub1=desub1[desub1['dismissal_kind']=='run out']"
   ]
  },
  {
   "cell_type": "code",
   "execution_count": 241,
   "metadata": {},
   "outputs": [
    {
     "data": {
      "text/plain": [
       "SK Raina          16\n",
       "KD Karthik        16\n",
       "RG Sharma         15\n",
       "AB de Villiers    14\n",
       "YK Pathan         14\n",
       "Name: non_striker, dtype: int64"
      ]
     },
     "execution_count": 241,
     "metadata": {},
     "output_type": "execute_result"
    }
   ],
   "source": [
    "desub1['non_striker'].value_counts().head()"
   ]
  },
  {
   "cell_type": "markdown",
   "metadata": {},
   "source": [
    "Sk Raina and Kd karthik both"
   ]
  },
  {
   "cell_type": "markdown",
   "metadata": {},
   "source": [
    "## Make at least 5 more new queries and find answers to them."
   ]
  },
  {
   "cell_type": "markdown",
   "metadata": {},
   "source": [
    "## Which batsman got bowled out maximum number of times?"
   ]
  },
  {
   "cell_type": "code",
   "execution_count": 242,
   "metadata": {},
   "outputs": [],
   "source": [
    "desub1=deliveries_df[['player_dismissed','dismissal_kind']]"
   ]
  },
  {
   "cell_type": "code",
   "execution_count": 243,
   "metadata": {},
   "outputs": [],
   "source": [
    "desub1=desub1[desub1['dismissal_kind']=='bowled']"
   ]
  },
  {
   "cell_type": "code",
   "execution_count": 245,
   "metadata": {},
   "outputs": [
    {
     "data": {
      "text/plain": [
       "'SR Watson'"
      ]
     },
     "execution_count": 245,
     "metadata": {},
     "output_type": "execute_result"
    }
   ],
   "source": [
    "desub1['player_dismissed'].value_counts().idxmax()"
   ]
  },
  {
   "cell_type": "markdown",
   "metadata": {},
   "source": [
    "## Which batsman has played minimum number of dot balls?"
   ]
  },
  {
   "cell_type": "code",
   "execution_count": 246,
   "metadata": {},
   "outputs": [],
   "source": [
    "dot=deliveries_df.query(\"total_runs == 0\")"
   ]
  },
  {
   "cell_type": "code",
   "execution_count": 247,
   "metadata": {},
   "outputs": [
    {
     "data": {
      "text/plain": [
       "'P Parameswaran'"
      ]
     },
     "execution_count": 247,
     "metadata": {},
     "output_type": "execute_result"
    }
   ],
   "source": [
    "dot['batsman'].value_counts().idxmin()"
   ]
  },
  {
   "cell_type": "markdown",
   "metadata": {},
   "source": [
    "## Which umpire has offciated maximum number of matches?"
   ]
  },
  {
   "cell_type": "code",
   "execution_count": 248,
   "metadata": {},
   "outputs": [],
   "source": [
    "umpiresub=matches_df[['umpire1','umpire2','umpire3']]"
   ]
  },
  {
   "cell_type": "code",
   "execution_count": 252,
   "metadata": {},
   "outputs": [
    {
     "data": {
      "text/plain": [
       "'S Ravi'"
      ]
     },
     "execution_count": 252,
     "metadata": {},
     "output_type": "execute_result"
    }
   ],
   "source": [
    "pd.concat([umpiresub['umpire1'],umpiresub['umpire2'],umpiresub['umpire3']],ignore_index=True).value_counts().idxmax()"
   ]
  },
  {
   "cell_type": "markdown",
   "metadata": {},
   "source": [
    "## Find the number of matches in every season"
   ]
  },
  {
   "cell_type": "code",
   "execution_count": 255,
   "metadata": {},
   "outputs": [
    {
     "data": {
      "text/plain": [
       "2013    76\n",
       "2012    74\n",
       "2011    73\n",
       "2019    60\n",
       "2018    60\n",
       "2016    60\n",
       "2014    60\n",
       "2010    60\n",
       "2017    59\n",
       "2015    59\n",
       "2008    58\n",
       "2009    57\n",
       "Name: season, dtype: int64"
      ]
     },
     "execution_count": 255,
     "metadata": {},
     "output_type": "execute_result"
    }
   ],
   "source": [
    "matches_df['season'].value_counts()"
   ]
  },
  {
   "cell_type": "markdown",
   "metadata": {},
   "source": [
    "## What seems to be the most preffered venue of the entire IPL series?"
   ]
  },
  {
   "cell_type": "code",
   "execution_count": 260,
   "metadata": {},
   "outputs": [],
   "source": [
    "venue_matches=matches_df.groupby('venue').count()[['id']].sort_values(by='id',ascending=False).head()"
   ]
  },
  {
   "cell_type": "code",
   "execution_count": 261,
   "metadata": {},
   "outputs": [
    {
     "data": {
      "text/html": [
       "<div>\n",
       "<style scoped>\n",
       "    .dataframe tbody tr th:only-of-type {\n",
       "        vertical-align: middle;\n",
       "    }\n",
       "\n",
       "    .dataframe tbody tr th {\n",
       "        vertical-align: top;\n",
       "    }\n",
       "\n",
       "    .dataframe thead th {\n",
       "        text-align: right;\n",
       "    }\n",
       "</style>\n",
       "<table border=\"1\" class=\"dataframe\">\n",
       "  <thead>\n",
       "    <tr style=\"text-align: right;\">\n",
       "      <th></th>\n",
       "      <th>id</th>\n",
       "    </tr>\n",
       "    <tr>\n",
       "      <th>venue</th>\n",
       "      <th></th>\n",
       "    </tr>\n",
       "  </thead>\n",
       "  <tbody>\n",
       "    <tr>\n",
       "      <th>Eden Gardens</th>\n",
       "      <td>77</td>\n",
       "    </tr>\n",
       "    <tr>\n",
       "      <th>Wankhede Stadium</th>\n",
       "      <td>73</td>\n",
       "    </tr>\n",
       "    <tr>\n",
       "      <th>M Chinnaswamy Stadium</th>\n",
       "      <td>73</td>\n",
       "    </tr>\n",
       "    <tr>\n",
       "      <th>Feroz Shah Kotla</th>\n",
       "      <td>67</td>\n",
       "    </tr>\n",
       "    <tr>\n",
       "      <th>Rajiv Gandhi International Stadium, Uppal</th>\n",
       "      <td>56</td>\n",
       "    </tr>\n",
       "  </tbody>\n",
       "</table>\n",
       "</div>"
      ],
      "text/plain": [
       "                                           id\n",
       "venue                                        \n",
       "Eden Gardens                               77\n",
       "Wankhede Stadium                           73\n",
       "M Chinnaswamy Stadium                      73\n",
       "Feroz Shah Kotla                           67\n",
       "Rajiv Gandhi International Stadium, Uppal  56"
      ]
     },
     "execution_count": 261,
     "metadata": {},
     "output_type": "execute_result"
    }
   ],
   "source": [
    "venue_matches"
   ]
  },
  {
   "cell_type": "code",
   "execution_count": 263,
   "metadata": {},
   "outputs": [
    {
     "data": {
      "text/plain": [
       "id    Eden Gardens\n",
       "dtype: object"
      ]
     },
     "execution_count": 263,
     "metadata": {},
     "output_type": "execute_result"
    }
   ],
   "source": [
    "venue_matches.idxmax()"
   ]
  },
  {
   "cell_type": "code",
   "execution_count": null,
   "metadata": {},
   "outputs": [],
   "source": []
  }
 ],
 "metadata": {
  "kernelspec": {
   "display_name": "Python 3",
   "language": "python",
   "name": "python3"
  },
  "language_info": {
   "codemirror_mode": {
    "name": "ipython",
    "version": 3
   },
   "file_extension": ".py",
   "mimetype": "text/x-python",
   "name": "python",
   "nbconvert_exporter": "python",
   "pygments_lexer": "ipython3",
   "version": "3.6.5"
  }
 },
 "nbformat": 4,
 "nbformat_minor": 2
}
